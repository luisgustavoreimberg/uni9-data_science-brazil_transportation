{
 "cells": [
  {
   "cell_type": "markdown",
   "metadata": {},
   "source": [
    "# Transporte Interestadual - Brasil\n",
    "\n",
    "Análise do fluxo de transporte de ônibus interestadual no Brasil entre os anos de **2019** e **2020**"
   ]
  },
  {
   "cell_type": "markdown",
   "metadata": {},
   "source": [
    "### Importação das dependências\n",
    "\n",
    "Importação das seguintes dependências para realização do projeto:\n",
    "- Pandas\n",
    "- Matplotlib"
   ]
  },
  {
   "cell_type": "code",
   "execution_count": 3,
   "metadata": {},
   "outputs": [],
   "source": [
    "import pandas as pd"
   ]
  },
  {
   "cell_type": "markdown",
   "metadata": {},
   "source": [
    "### Leitura dos dados\n",
    "\n",
    "Leitura dos arquivos **csv** utilizados para análise."
   ]
  },
  {
   "cell_type": "code",
   "execution_count": 67,
   "metadata": {},
   "outputs": [
    {
     "name": "stdout",
     "output_type": "stream",
     "text": [
      "<class 'pandas.core.frame.DataFrame'>\n",
      "RangeIndex: 1308793 entries, 0 to 1308792\n",
      "Data columns (total 17 columns):\n",
      " #   Column                  Non-Null Count    Dtype \n",
      "---  ------                  --------------    ----- \n",
      " 0   codigo_viagem           1308793 non-null  object\n",
      " 1   empresa                 1308793 non-null  object\n",
      " 2   nu_linha                1308793 non-null  object\n",
      " 3   onibus                  1308793 non-null  object\n",
      " 4   tipo_viagem             1308793 non-null  object\n",
      " 5   sentido_linha           1308793 non-null  object\n",
      " 6   in_transbordo           1308793 non-null  object\n",
      " 7   origem                  1308793 non-null  object\n",
      " 8   origem_uf               1308793 non-null  object\n",
      " 9   destino                 1308793 non-null  object\n",
      " 10  destino_uf              1308793 non-null  object\n",
      " 11  lat                     1308793 non-null  object\n",
      " 12  lon                     1308793 non-null  object\n",
      " 13  pdop                    1308793 non-null  object\n",
      " 14  data_viagem_programada  1308793 non-null  object\n",
      " 15  data_inicio_viagem      1308793 non-null  object\n",
      " 16  data_fim_viagem         1308793 non-null  object\n",
      "dtypes: object(17)\n",
      "memory usage: 169.8+ MB\n"
     ]
    }
   ],
   "source": [
    "transportationData = pd.read_csv(\"data/road-transport-brazil.csv\", sep=\";\")\n",
    "transportationData.info()"
   ]
  },
  {
   "cell_type": "markdown",
   "metadata": {},
   "source": [
    "Demonstração da estrutura de organização dos dados no DataSet"
   ]
  },
  {
   "cell_type": "code",
   "execution_count": 68,
   "metadata": {},
   "outputs": [
    {
     "data": {
      "text/html": [
       "<div>\n",
       "<style scoped>\n",
       "    .dataframe tbody tr th:only-of-type {\n",
       "        vertical-align: middle;\n",
       "    }\n",
       "\n",
       "    .dataframe tbody tr th {\n",
       "        vertical-align: top;\n",
       "    }\n",
       "\n",
       "    .dataframe thead th {\n",
       "        text-align: right;\n",
       "    }\n",
       "</style>\n",
       "<table border=\"1\" class=\"dataframe\">\n",
       "  <thead>\n",
       "    <tr style=\"text-align: right;\">\n",
       "      <th></th>\n",
       "      <th>codigo_viagem</th>\n",
       "      <th>empresa</th>\n",
       "      <th>nu_linha</th>\n",
       "      <th>onibus</th>\n",
       "      <th>tipo_viagem</th>\n",
       "      <th>sentido_linha</th>\n",
       "      <th>in_transbordo</th>\n",
       "      <th>origem</th>\n",
       "      <th>origem_uf</th>\n",
       "      <th>destino</th>\n",
       "      <th>destino_uf</th>\n",
       "      <th>lat</th>\n",
       "      <th>lon</th>\n",
       "      <th>pdop</th>\n",
       "      <th>data_viagem_programada</th>\n",
       "      <th>data_inicio_viagem</th>\n",
       "      <th>data_fim_viagem</th>\n",
       "    </tr>\n",
       "  </thead>\n",
       "  <tbody>\n",
       "    <tr>\n",
       "      <th>0</th>\n",
       "      <td>554e2d76</td>\n",
       "      <td>7980c0ae</td>\n",
       "      <td>83ed87ea</td>\n",
       "      <td>3b3307d2</td>\n",
       "      <td>regular</td>\n",
       "      <td>volta</td>\n",
       "      <td>não</td>\n",
       "      <td>TRES RIOS</td>\n",
       "      <td>RJ</td>\n",
       "      <td>JUIZ DE FORA</td>\n",
       "      <td>MG</td>\n",
       "      <td>-21,738728</td>\n",
       "      <td>-43,37421</td>\n",
       "      <td>0</td>\n",
       "      <td>2019-01-01 05:30:00</td>\n",
       "      <td>2019-01-01 05:28:27</td>\n",
       "      <td>2019-01-01 06:52:04</td>\n",
       "    </tr>\n",
       "    <tr>\n",
       "      <th>1</th>\n",
       "      <td>c5f130e7</td>\n",
       "      <td>7980c0ae</td>\n",
       "      <td>83ed87ea</td>\n",
       "      <td>651283f4</td>\n",
       "      <td>regular</td>\n",
       "      <td>volta</td>\n",
       "      <td>não</td>\n",
       "      <td>TRES RIOS</td>\n",
       "      <td>RJ</td>\n",
       "      <td>JUIZ DE FORA</td>\n",
       "      <td>MG</td>\n",
       "      <td>-22,116059</td>\n",
       "      <td>-43,198193</td>\n",
       "      <td>0</td>\n",
       "      <td>2019-01-01 05:30:00</td>\n",
       "      <td>2019-01-01 05:30:01</td>\n",
       "      <td>2019-01-01 06:53:37</td>\n",
       "    </tr>\n",
       "    <tr>\n",
       "      <th>2</th>\n",
       "      <td>09644e23</td>\n",
       "      <td>7980c0ae</td>\n",
       "      <td>83ed87ea</td>\n",
       "      <td>3b3307d2</td>\n",
       "      <td>regular</td>\n",
       "      <td>ida</td>\n",
       "      <td>não</td>\n",
       "      <td>TRES RIOS</td>\n",
       "      <td>RJ</td>\n",
       "      <td>JUIZ DE FORA</td>\n",
       "      <td>MG</td>\n",
       "      <td>-22,116022</td>\n",
       "      <td>-43,198081</td>\n",
       "      <td>0</td>\n",
       "      <td>2019-01-01 07:30:00</td>\n",
       "      <td>2019-01-01 07:29:41</td>\n",
       "      <td>2019-01-01 08:52:25</td>\n",
       "    </tr>\n",
       "    <tr>\n",
       "      <th>3</th>\n",
       "      <td>7e637eb5</td>\n",
       "      <td>7980c0ae</td>\n",
       "      <td>83ed87ea</td>\n",
       "      <td>651283f4</td>\n",
       "      <td>regular</td>\n",
       "      <td>volta</td>\n",
       "      <td>não</td>\n",
       "      <td>TRES RIOS</td>\n",
       "      <td>RJ</td>\n",
       "      <td>JUIZ DE FORA</td>\n",
       "      <td>MG</td>\n",
       "      <td>-21,738783</td>\n",
       "      <td>-43,374027</td>\n",
       "      <td>0</td>\n",
       "      <td>2019-01-01 07:30:00</td>\n",
       "      <td>2019-01-01 07:30:50</td>\n",
       "      <td>2019-01-01 08:58:33</td>\n",
       "    </tr>\n",
       "    <tr>\n",
       "      <th>4</th>\n",
       "      <td>99db53b2</td>\n",
       "      <td>7980c0ae</td>\n",
       "      <td>83ed87ea</td>\n",
       "      <td>8ddac9ca</td>\n",
       "      <td>regular</td>\n",
       "      <td>ida</td>\n",
       "      <td>não</td>\n",
       "      <td>TRES RIOS</td>\n",
       "      <td>RJ</td>\n",
       "      <td>JUIZ DE FORA</td>\n",
       "      <td>MG</td>\n",
       "      <td>-22,116213</td>\n",
       "      <td>-43,200547</td>\n",
       "      <td>0</td>\n",
       "      <td>2019-01-01 08:45:00</td>\n",
       "      <td>2019-01-01 08:32:36</td>\n",
       "      <td>2019-01-01 10:14:54</td>\n",
       "    </tr>\n",
       "  </tbody>\n",
       "</table>\n",
       "</div>"
      ],
      "text/plain": [
       "  codigo_viagem   empresa  nu_linha    onibus tipo_viagem sentido_linha  \\\n",
       "0      554e2d76  7980c0ae  83ed87ea  3b3307d2     regular         volta   \n",
       "1      c5f130e7  7980c0ae  83ed87ea  651283f4     regular         volta   \n",
       "2      09644e23  7980c0ae  83ed87ea  3b3307d2     regular           ida   \n",
       "3      7e637eb5  7980c0ae  83ed87ea  651283f4     regular         volta   \n",
       "4      99db53b2  7980c0ae  83ed87ea  8ddac9ca     regular           ida   \n",
       "\n",
       "  in_transbordo     origem origem_uf       destino destino_uf         lat  \\\n",
       "0           não  TRES RIOS        RJ  JUIZ DE FORA         MG  -21,738728   \n",
       "1           não  TRES RIOS        RJ  JUIZ DE FORA         MG  -22,116059   \n",
       "2           não  TRES RIOS        RJ  JUIZ DE FORA         MG  -22,116022   \n",
       "3           não  TRES RIOS        RJ  JUIZ DE FORA         MG  -21,738783   \n",
       "4           não  TRES RIOS        RJ  JUIZ DE FORA         MG  -22,116213   \n",
       "\n",
       "          lon pdop data_viagem_programada   data_inicio_viagem  \\\n",
       "0   -43,37421    0    2019-01-01 05:30:00  2019-01-01 05:28:27   \n",
       "1  -43,198193    0    2019-01-01 05:30:00  2019-01-01 05:30:01   \n",
       "2  -43,198081    0    2019-01-01 07:30:00  2019-01-01 07:29:41   \n",
       "3  -43,374027    0    2019-01-01 07:30:00  2019-01-01 07:30:50   \n",
       "4  -43,200547    0    2019-01-01 08:45:00  2019-01-01 08:32:36   \n",
       "\n",
       "       data_fim_viagem  \n",
       "0  2019-01-01 06:52:04  \n",
       "1  2019-01-01 06:53:37  \n",
       "2  2019-01-01 08:52:25  \n",
       "3  2019-01-01 08:58:33  \n",
       "4  2019-01-01 10:14:54  "
      ]
     },
     "execution_count": 68,
     "metadata": {},
     "output_type": "execute_result"
    }
   ],
   "source": [
    "transportationData.head()"
   ]
  },
  {
   "cell_type": "markdown",
   "metadata": {},
   "source": [
    "Listagem de colunas"
   ]
  },
  {
   "cell_type": "code",
   "execution_count": 69,
   "metadata": {},
   "outputs": [
    {
     "data": {
      "text/plain": [
       "array(['codigo_viagem', 'empresa', 'nu_linha', 'onibus', 'tipo_viagem',\n",
       "       'sentido_linha', 'in_transbordo', 'origem', 'origem_uf', 'destino',\n",
       "       'destino_uf', 'lat', 'lon', 'pdop', 'data_viagem_programada',\n",
       "       'data_inicio_viagem', 'data_fim_viagem'], dtype=object)"
      ]
     },
     "execution_count": 69,
     "metadata": {},
     "output_type": "execute_result"
    }
   ],
   "source": [
    "transportationData.columns.values"
   ]
  },
  {
   "cell_type": "markdown",
   "metadata": {},
   "source": [
    "### Limpeza dos dados\n",
    "\n",
    "Limpeza de linhas com dados vazios e remoção das seguintes colunas que não serão tratadas no processamento:\n",
    "- codigo_viagem\n",
    "- empresa\n",
    "- nu_linha\n",
    "- onibus\n",
    "- in_transbordo\n",
    "- pdop\n"
   ]
  },
  {
   "cell_type": "code",
   "execution_count": 70,
   "metadata": {},
   "outputs": [
    {
     "data": {
      "text/html": [
       "<div>\n",
       "<style scoped>\n",
       "    .dataframe tbody tr th:only-of-type {\n",
       "        vertical-align: middle;\n",
       "    }\n",
       "\n",
       "    .dataframe tbody tr th {\n",
       "        vertical-align: top;\n",
       "    }\n",
       "\n",
       "    .dataframe thead th {\n",
       "        text-align: right;\n",
       "    }\n",
       "</style>\n",
       "<table border=\"1\" class=\"dataframe\">\n",
       "  <thead>\n",
       "    <tr style=\"text-align: right;\">\n",
       "      <th></th>\n",
       "      <th>tipo_viagem</th>\n",
       "      <th>sentido_linha</th>\n",
       "      <th>origem</th>\n",
       "      <th>origem_uf</th>\n",
       "      <th>destino</th>\n",
       "      <th>destino_uf</th>\n",
       "      <th>lat</th>\n",
       "      <th>lon</th>\n",
       "      <th>data_viagem_programada</th>\n",
       "      <th>data_inicio_viagem</th>\n",
       "      <th>data_fim_viagem</th>\n",
       "    </tr>\n",
       "  </thead>\n",
       "  <tbody>\n",
       "    <tr>\n",
       "      <th>0</th>\n",
       "      <td>regular</td>\n",
       "      <td>volta</td>\n",
       "      <td>TRES RIOS</td>\n",
       "      <td>RJ</td>\n",
       "      <td>JUIZ DE FORA</td>\n",
       "      <td>MG</td>\n",
       "      <td>-21,738728</td>\n",
       "      <td>-43,37421</td>\n",
       "      <td>2019-01-01 05:30:00</td>\n",
       "      <td>2019-01-01 05:28:27</td>\n",
       "      <td>2019-01-01 06:52:04</td>\n",
       "    </tr>\n",
       "    <tr>\n",
       "      <th>1</th>\n",
       "      <td>regular</td>\n",
       "      <td>volta</td>\n",
       "      <td>TRES RIOS</td>\n",
       "      <td>RJ</td>\n",
       "      <td>JUIZ DE FORA</td>\n",
       "      <td>MG</td>\n",
       "      <td>-22,116059</td>\n",
       "      <td>-43,198193</td>\n",
       "      <td>2019-01-01 05:30:00</td>\n",
       "      <td>2019-01-01 05:30:01</td>\n",
       "      <td>2019-01-01 06:53:37</td>\n",
       "    </tr>\n",
       "    <tr>\n",
       "      <th>2</th>\n",
       "      <td>regular</td>\n",
       "      <td>ida</td>\n",
       "      <td>TRES RIOS</td>\n",
       "      <td>RJ</td>\n",
       "      <td>JUIZ DE FORA</td>\n",
       "      <td>MG</td>\n",
       "      <td>-22,116022</td>\n",
       "      <td>-43,198081</td>\n",
       "      <td>2019-01-01 07:30:00</td>\n",
       "      <td>2019-01-01 07:29:41</td>\n",
       "      <td>2019-01-01 08:52:25</td>\n",
       "    </tr>\n",
       "    <tr>\n",
       "      <th>3</th>\n",
       "      <td>regular</td>\n",
       "      <td>volta</td>\n",
       "      <td>TRES RIOS</td>\n",
       "      <td>RJ</td>\n",
       "      <td>JUIZ DE FORA</td>\n",
       "      <td>MG</td>\n",
       "      <td>-21,738783</td>\n",
       "      <td>-43,374027</td>\n",
       "      <td>2019-01-01 07:30:00</td>\n",
       "      <td>2019-01-01 07:30:50</td>\n",
       "      <td>2019-01-01 08:58:33</td>\n",
       "    </tr>\n",
       "    <tr>\n",
       "      <th>4</th>\n",
       "      <td>regular</td>\n",
       "      <td>ida</td>\n",
       "      <td>TRES RIOS</td>\n",
       "      <td>RJ</td>\n",
       "      <td>JUIZ DE FORA</td>\n",
       "      <td>MG</td>\n",
       "      <td>-22,116213</td>\n",
       "      <td>-43,200547</td>\n",
       "      <td>2019-01-01 08:45:00</td>\n",
       "      <td>2019-01-01 08:32:36</td>\n",
       "      <td>2019-01-01 10:14:54</td>\n",
       "    </tr>\n",
       "  </tbody>\n",
       "</table>\n",
       "</div>"
      ],
      "text/plain": [
       "  tipo_viagem sentido_linha     origem origem_uf       destino destino_uf  \\\n",
       "0     regular         volta  TRES RIOS        RJ  JUIZ DE FORA         MG   \n",
       "1     regular         volta  TRES RIOS        RJ  JUIZ DE FORA         MG   \n",
       "2     regular           ida  TRES RIOS        RJ  JUIZ DE FORA         MG   \n",
       "3     regular         volta  TRES RIOS        RJ  JUIZ DE FORA         MG   \n",
       "4     regular           ida  TRES RIOS        RJ  JUIZ DE FORA         MG   \n",
       "\n",
       "          lat         lon data_viagem_programada   data_inicio_viagem  \\\n",
       "0  -21,738728   -43,37421    2019-01-01 05:30:00  2019-01-01 05:28:27   \n",
       "1  -22,116059  -43,198193    2019-01-01 05:30:00  2019-01-01 05:30:01   \n",
       "2  -22,116022  -43,198081    2019-01-01 07:30:00  2019-01-01 07:29:41   \n",
       "3  -21,738783  -43,374027    2019-01-01 07:30:00  2019-01-01 07:30:50   \n",
       "4  -22,116213  -43,200547    2019-01-01 08:45:00  2019-01-01 08:32:36   \n",
       "\n",
       "       data_fim_viagem  \n",
       "0  2019-01-01 06:52:04  \n",
       "1  2019-01-01 06:53:37  \n",
       "2  2019-01-01 08:52:25  \n",
       "3  2019-01-01 08:58:33  \n",
       "4  2019-01-01 10:14:54  "
      ]
     },
     "execution_count": 70,
     "metadata": {},
     "output_type": "execute_result"
    }
   ],
   "source": [
    "transportationData.drop(['codigo_viagem', 'empresa', 'nu_linha', 'onibus', 'in_transbordo', 'pdop'], axis=1, inplace=True)\n",
    "transportationData.head()"
   ]
  },
  {
   "cell_type": "markdown",
   "metadata": {},
   "source": [
    "Nova listagem de colunas"
   ]
  },
  {
   "cell_type": "code",
   "execution_count": 71,
   "metadata": {},
   "outputs": [
    {
     "data": {
      "text/plain": [
       "array(['tipo_viagem', 'sentido_linha', 'origem', 'origem_uf', 'destino',\n",
       "       'destino_uf', 'lat', 'lon', 'data_viagem_programada',\n",
       "       'data_inicio_viagem', 'data_fim_viagem'], dtype=object)"
      ]
     },
     "execution_count": 71,
     "metadata": {},
     "output_type": "execute_result"
    }
   ],
   "source": [
    "transportationData.columns.values"
   ]
  },
  {
   "cell_type": "markdown",
   "metadata": {},
   "source": [
    "Contagem dos valores\n",
    "*(linhas, colunas)*"
   ]
  },
  {
   "cell_type": "code",
   "execution_count": 72,
   "metadata": {},
   "outputs": [
    {
     "data": {
      "text/plain": [
       "(1308793, 11)"
      ]
     },
     "execution_count": 72,
     "metadata": {},
     "output_type": "execute_result"
    }
   ],
   "source": [
    "transportationData.shape"
   ]
  },
  {
   "cell_type": "markdown",
   "metadata": {},
   "source": [
    "Limpeza dos dados vazios e nova contagem dos valores"
   ]
  },
  {
   "cell_type": "code",
   "execution_count": 73,
   "metadata": {},
   "outputs": [
    {
     "data": {
      "text/plain": [
       "(1308793, 11)"
      ]
     },
     "execution_count": 73,
     "metadata": {},
     "output_type": "execute_result"
    }
   ],
   "source": [
    "transportationData.dropna(axis=0)\n",
    "transportationData.shape"
   ]
  },
  {
   "cell_type": "markdown",
   "metadata": {},
   "source": [
    "### Conversão de dados\n",
    "\n",
    "Parse dos dados que serão necessários para a análise. Conversão para formato correto"
   ]
  },
  {
   "cell_type": "code",
   "execution_count": 74,
   "metadata": {},
   "outputs": [
    {
     "name": "stdout",
     "output_type": "stream",
     "text": [
      "<class 'pandas.core.frame.DataFrame'>\n",
      "RangeIndex: 1308793 entries, 0 to 1308792\n",
      "Data columns (total 11 columns):\n",
      " #   Column                  Non-Null Count    Dtype \n",
      "---  ------                  --------------    ----- \n",
      " 0   tipo_viagem             1308793 non-null  object\n",
      " 1   sentido_linha           1308793 non-null  object\n",
      " 2   origem                  1308793 non-null  object\n",
      " 3   origem_uf               1308793 non-null  object\n",
      " 4   destino                 1308793 non-null  object\n",
      " 5   destino_uf              1308793 non-null  object\n",
      " 6   lat                     1308793 non-null  object\n",
      " 7   lon                     1308793 non-null  object\n",
      " 8   data_viagem_programada  1308793 non-null  object\n",
      " 9   data_inicio_viagem      1308793 non-null  object\n",
      " 10  data_fim_viagem         1308793 non-null  object\n",
      "dtypes: object(11)\n",
      "memory usage: 109.8+ MB\n"
     ]
    }
   ],
   "source": [
    "transportationData.info()"
   ]
  },
  {
   "cell_type": "markdown",
   "metadata": {},
   "source": [
    "Convertendo para **datetime** dados de data que estão como **object**"
   ]
  },
  {
   "cell_type": "code",
   "execution_count": 75,
   "metadata": {},
   "outputs": [
    {
     "name": "stdout",
     "output_type": "stream",
     "text": [
      "<class 'pandas.core.frame.DataFrame'>\n",
      "RangeIndex: 1308793 entries, 0 to 1308792\n",
      "Data columns (total 11 columns):\n",
      " #   Column                  Non-Null Count    Dtype         \n",
      "---  ------                  --------------    -----         \n",
      " 0   tipo_viagem             1308793 non-null  object        \n",
      " 1   sentido_linha           1308793 non-null  object        \n",
      " 2   origem                  1308793 non-null  object        \n",
      " 3   origem_uf               1308793 non-null  object        \n",
      " 4   destino                 1308793 non-null  object        \n",
      " 5   destino_uf              1308793 non-null  object        \n",
      " 6   lat                     1308793 non-null  object        \n",
      " 7   lon                     1308793 non-null  object        \n",
      " 8   data_viagem_programada  1308793 non-null  datetime64[ns]\n",
      " 9   data_inicio_viagem      1308793 non-null  datetime64[ns]\n",
      " 10  data_fim_viagem         1308793 non-null  datetime64[ns]\n",
      "dtypes: datetime64[ns](3), object(8)\n",
      "memory usage: 109.8+ MB\n"
     ]
    }
   ],
   "source": [
    "transportationData['data_viagem_programada'] = pd.to_datetime(transportationData['data_viagem_programada'])\n",
    "transportationData['data_inicio_viagem'] = pd.to_datetime(transportationData['data_inicio_viagem'])\n",
    "transportationData['data_fim_viagem'] = pd.to_datetime(transportationData['data_fim_viagem'])\n",
    "transportationData.info()"
   ]
  },
  {
   "cell_type": "markdown",
   "metadata": {},
   "source": [
    "### Quantificação dos dados\n",
    "\n",
    "Análise dos seguintes grupos:\n",
    "- Viagens por UF: **Origem** e **Destino**\n",
    "- Viagens por Cidade: **Origem** e **Destino**\n",
    "- Viagens realizadas dentro do próprio estado *(uf)*"
   ]
  },
  {
   "cell_type": "markdown",
   "metadata": {},
   "source": [
    "Contagem de viagens por **UF de Origem**"
   ]
  },
  {
   "cell_type": "code",
   "execution_count": 76,
   "metadata": {},
   "outputs": [
    {
     "data": {
      "text/plain": [
       "AC         2\n",
       "AL     13663\n",
       "AM     11373\n",
       "BA     81926\n",
       "CE     43577\n",
       "DF     49372\n",
       "ES     81859\n",
       "GO     67434\n",
       "MA     19803\n",
       "MG    218387\n",
       "MS     34162\n",
       "MT     18894\n",
       "PA      8380\n",
       "PB     31220\n",
       "PE     11822\n",
       "PI       661\n",
       "PR    204032\n",
       "RJ    104658\n",
       "RN      3217\n",
       "RO      8282\n",
       "RS     44701\n",
       "SC     71986\n",
       "SE      3881\n",
       "SP    175501\n",
       "Name: origem_uf, dtype: int64"
      ]
     },
     "execution_count": 76,
     "metadata": {},
     "output_type": "execute_result"
    }
   ],
   "source": [
    "(transportationData['origem_uf']).value_counts().sort_index()"
   ]
  },
  {
   "cell_type": "markdown",
   "metadata": {},
   "source": [
    "Contagem de viagens por **UF de Destino**"
   ]
  },
  {
   "cell_type": "code",
   "execution_count": 77,
   "metadata": {},
   "outputs": [
    {
     "data": {
      "text/plain": [
       "AC      6184\n",
       "AL       532\n",
       "AM      2896\n",
       "BA     18587\n",
       "CE      2569\n",
       "DF      4745\n",
       "ES     24164\n",
       "GO     28705\n",
       "MA      4916\n",
       "MG    208403\n",
       "MS     24539\n",
       "MT     29042\n",
       "PA     11306\n",
       "PB      5599\n",
       "PE     53084\n",
       "PI     38247\n",
       "PR     49504\n",
       "RJ    196524\n",
       "RN     21192\n",
       "RO      7646\n",
       "RR     10867\n",
       "RS     57424\n",
       "SC     96407\n",
       "SE     11816\n",
       "SP    380152\n",
       "TO     13743\n",
       "Name: destino_uf, dtype: int64"
      ]
     },
     "execution_count": 77,
     "metadata": {},
     "output_type": "execute_result"
    }
   ],
   "source": [
    "(transportationData['destino_uf']).value_counts().sort_index()"
   ]
  },
  {
   "cell_type": "markdown",
   "metadata": {},
   "source": [
    "Contagem de viagens por **Cidade de Origem**"
   ]
  },
  {
   "cell_type": "code",
   "execution_count": 78,
   "metadata": {},
   "outputs": [
    {
     "data": {
      "text/plain": [
       "ACAILANDIA                2020\n",
       "AFONSO CLAUDIO               3\n",
       "AGUA BOA                   985\n",
       "AGUA DOCE DO MARANHAO     1517\n",
       "AGUAS DA PRATA           11847\n",
       "                         ...  \n",
       "VITORIA                  32256\n",
       "VITORIA DA CONQUISTA      9211\n",
       "VOLTA REDONDA            13903\n",
       "WENCESLAU BRAZ            2586\n",
       "XIQUE-XIQUE                262\n",
       "Name: origem, Length: 407, dtype: int64"
      ]
     },
     "execution_count": 78,
     "metadata": {},
     "output_type": "execute_result"
    }
   ],
   "source": [
    "(transportationData['origem']).value_counts().sort_index()"
   ]
  },
  {
   "cell_type": "markdown",
   "metadata": {},
   "source": [
    "Contagem de viagens por **Cidade de Destino**"
   ]
  },
  {
   "cell_type": "code",
   "execution_count": null,
   "metadata": {},
   "outputs": [],
   "source": [
    "(transportationData['destino']).value_counts().sort_index()"
   ]
  },
  {
   "cell_type": "markdown",
   "metadata": {},
   "source": [
    "Viagens realizadas **Dentro do próprio estado** *(UF de origem igual a UF de destino)*"
   ]
  },
  {
   "cell_type": "code",
   "execution_count": 79,
   "metadata": {},
   "outputs": [
    {
     "data": {
      "text/plain": [
       "MG    1919\n",
       "Name: origem_uf, dtype: int64"
      ]
     },
     "execution_count": 79,
     "metadata": {},
     "output_type": "execute_result"
    }
   ],
   "source": [
    "same_origin_destination = transportationData[transportationData['origem_uf'] == transportationData['destino_uf']]\n",
    "same_origin_destination['origem_uf'].value_counts().sort_index()"
   ]
  },
  {
   "cell_type": "markdown",
   "metadata": {},
   "source": [
    "Número de viagens por ano divididos por **UF de origem**"
   ]
  },
  {
   "cell_type": "code",
   "execution_count": 81,
   "metadata": {},
   "outputs": [
    {
     "data": {
      "text/plain": [
       "AC         2\n",
       "AL      9476\n",
       "AM      8511\n",
       "BA     65372\n",
       "CE     33642\n",
       "DF     35658\n",
       "ES     65666\n",
       "GO     53391\n",
       "MA     15545\n",
       "MG    172401\n",
       "MS     27182\n",
       "MT     15261\n",
       "PA      6651\n",
       "PB     24367\n",
       "PE      9036\n",
       "PI       499\n",
       "PR    164140\n",
       "RJ     82883\n",
       "RN      2396\n",
       "RO      6398\n",
       "RS     35181\n",
       "SC     57017\n",
       "SE      2629\n",
       "SP    138154\n",
       "Name: origem_uf, dtype: int64"
      ]
     },
     "execution_count": 81,
     "metadata": {},
     "output_type": "execute_result"
    }
   ],
   "source": [
    "selectedYear = 2019\n",
    "trip_by_year = transportationData[transportationData['data_viagem_programada'].dt.year == selectedYear]\n",
    "trip_by_year['origem_uf'].value_counts().sort_index()"
   ]
  },
  {
   "cell_type": "markdown",
   "metadata": {},
   "source": [
    "### Agrupamento de dados\n",
    "\n",
    "Utilização do groupby para exploração do DataSet"
   ]
  },
  {
   "cell_type": "markdown",
   "metadata": {},
   "source": [
    "Agrupamento de viagens relacionando **UF de Origem** e **UF de Destino**"
   ]
  },
  {
   "cell_type": "code",
   "execution_count": 82,
   "metadata": {},
   "outputs": [
    {
     "data": {
      "text/plain": [
       "origem_uf  destino_uf\n",
       "AC         GO                2\n",
       "AL         BA             3032\n",
       "           CE              582\n",
       "           PA              348\n",
       "           PB             1267\n",
       "                         ...  \n",
       "SP         PR            16454\n",
       "           RJ            69213\n",
       "           RS                1\n",
       "           SC             1735\n",
       "           TO              337\n",
       "Name: tipo_viagem, Length: 200, dtype: int64"
      ]
     },
     "execution_count": 82,
     "metadata": {},
     "output_type": "execute_result"
    }
   ],
   "source": [
    "transportationData.groupby(['origem_uf', 'destino_uf']).tipo_viagem.count()"
   ]
  },
  {
   "cell_type": "markdown",
   "metadata": {},
   "source": [
    "Agrupamento de viagens relacionando **Cidade de Origem** e **Cidade de Destino**, adicionando as respectivas UFs como referência"
   ]
  },
  {
   "cell_type": "code",
   "execution_count": 30,
   "metadata": {},
   "outputs": [
    {
     "data": {
      "text/plain": [
       "origem_uf  origem      destino_uf  destino       \n",
       "AC         RIO BRANCO  GO          GOIANIA              2\n",
       "AL         ARAPIRACA   BA          SALVADOR             9\n",
       "                       PE          RECIFE              39\n",
       "                       SP          SAO PAULO          720\n",
       "           MACEIO      BA          PAULO AFONSO       567\n",
       "                                                     ... \n",
       "SP         SAO PAULO   SC          FLORIANOPOLIS      596\n",
       "                                   ITAJAI              15\n",
       "                                   ITAPEMA           1124\n",
       "                       TO          PALMAS             337\n",
       "           SOROCABA    MG          BELO HORIZONTE    1449\n",
       "Name: tipo_viagem, Length: 1217, dtype: int64"
      ]
     },
     "execution_count": 30,
     "metadata": {},
     "output_type": "execute_result"
    }
   ],
   "source": [
    "transportationData.groupby(['origem_uf', 'origem', 'destino_uf', 'destino']).tipo_viagem.count()"
   ]
  }
 ],
 "metadata": {
  "interpreter": {
   "hash": "235c32beb3860f45b922fe880c6789a491004fd1598deedddc85d65a3459467e"
  },
  "kernelspec": {
   "display_name": "Python 3.10.0 64-bit",
   "language": "python",
   "name": "python3"
  },
  "language_info": {
   "codemirror_mode": {
    "name": "ipython",
    "version": 3
   },
   "file_extension": ".py",
   "mimetype": "text/x-python",
   "name": "python",
   "nbconvert_exporter": "python",
   "pygments_lexer": "ipython3",
   "version": "3.10.0"
  },
  "orig_nbformat": 4
 },
 "nbformat": 4,
 "nbformat_minor": 2
}
